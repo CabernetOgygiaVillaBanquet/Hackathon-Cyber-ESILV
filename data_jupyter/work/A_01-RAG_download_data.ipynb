{
 "cells": [
  {
   "cell_type": "markdown",
   "id": "ab388f9b-5f99-42ab-b750-32b1bb661bd3",
   "metadata": {},
   "source": [
    "# UseCase A : download, ingest & query in a manually crafted data schema all NVD's CVE in a graph 1/3"
   ]
  },
  {
   "cell_type": "markdown",
   "id": "7ced3099-058d-4145-83b3-0a4cced8d1d5",
   "metadata": {},
   "source": [
    "## Download CVE from NVD database"
   ]
  },
  {
   "cell_type": "markdown",
   "id": "09a678da-18b7-48fe-bd6b-3642c288b700",
   "metadata": {},
   "source": [
    "## 1. set context"
   ]
  },
  {
   "cell_type": "code",
   "execution_count": 11,
   "id": "2fc95966-9293-49af-92e0-1e317f4ca766",
   "metadata": {},
   "outputs": [
    {
     "data": {
      "text/plain": [
       "'DONE - Wednesday 20 November à 10h43 et 56 secondes'"
      ]
     },
     "execution_count": 11,
     "metadata": {},
     "output_type": "execute_result"
    }
   ],
   "source": [
    "from datetime import datetime\n",
    "\n",
    "def printDone():\n",
    "    # Obtenir la date et l'heure actuelle\n",
    "    maintenant = datetime.now()\n",
    "    # Formater la date dans le format souhaité\n",
    "    date_formatee = maintenant.strftime(\"DONE - %A %d %B à %Hh%M et %S secondes\")\n",
    "    # Retourner la date formatée\n",
    "    return date_formatee\n",
    "\n",
    "printDone()"
   ]
  },
  {
   "cell_type": "code",
   "execution_count": 12,
   "id": "7592d3da-38ba-4649-8733-09009a221d96",
   "metadata": {},
   "outputs": [
    {
     "name": "stdout",
     "output_type": "stream",
     "text": [
      "Chemin ajouté: /home/jovyan/work/libs\n"
     ]
    },
    {
     "data": {
      "text/plain": [
       "'DONE - Wednesday 20 November à 10h43 et 56 secondes'"
      ]
     },
     "execution_count": 12,
     "metadata": {},
     "output_type": "execute_result"
    }
   ],
   "source": [
    "import sys\n",
    "import os\n",
    "# Ajout du chemin vers le répertoire des librairies\n",
    "libs_path = os.path.join(os.getcwd(), 'libs')\n",
    "sys.path.append(libs_path)\n",
    "\n",
    "# Vérification que le chemin a été ajouté\n",
    "print(\"Chemin ajouté:\", libs_path)\n",
    "\n",
    "printDone()"
   ]
  },
  {
   "cell_type": "code",
   "execution_count": 13,
   "id": "db7db741",
   "metadata": {},
   "outputs": [
    {
     "data": {
      "text/plain": [
       "'DONE - Wednesday 20 November à 10h43 et 56 secondes'"
      ]
     },
     "execution_count": 13,
     "metadata": {},
     "output_type": "execute_result"
    }
   ],
   "source": [
    "import shutil\n",
    "from shutil import ignore_patterns\n",
    "import scraper\n",
    "from  scraper import *\n",
    "\n",
    "printDone()"
   ]
  },
  {
   "cell_type": "markdown",
   "id": "0bb48875-ccbe-428a-a942-5842359455a1",
   "metadata": {},
   "source": [
    "## 2. Download CVE"
   ]
  },
  {
   "cell_type": "markdown",
   "id": "0da3fdee-efc4-43e6-8a70-2d274e10b04a",
   "metadata": {},
   "source": [
    "**CVE (Common Vulnerabilities and Exposures)**:\n",
    "\n",
    "**Definition**: \n",
    "\n",
    "CVE is a publicly available list of standardized identifiers for known cybersecurity vulnerabilities and exposures. Each entry in the CVE list is assigned a unique CVE identifier (e.g., CVE-2023-12345) and includes a brief description of the vulnerability or exposure.\n",
    "\n",
    "**Purpose and Usage**:\n",
    "\n",
    "- **Standardization**: CVE provides a common reference point for identifying vulnerabilities, ensuring that different security tools, databases, and organizations can communicate clearly about specific issues.\n",
    "\n",
    "- **Vulnerability Management**: Security professionals use CVE identifiers to track vulnerabilities across various platforms and products, aiding in patch management and risk assessment.\n",
    "\n",
    "- **Information Sharing**: By referencing CVE IDs, organizations can quickly share information about vulnerabilities with vendors, customers, and the security community.\n",
    " \n",
    "**Example**: If a new vulnerability is discovered in a popular web server software, it will be assigned a CVE ID. System administrators can then search for this ID to find patches and mitigation strategies."
   ]
  },
  {
   "cell_type": "code",
   "execution_count": 14,
   "id": "1d550672",
   "metadata": {},
   "outputs": [
    {
     "name": "stdout",
     "output_type": "stream",
     "text": [
      "\n",
      "Updating the Database with all the CVE Files...\n",
      "Zip file:  /feeds/json/cve/1.1/nvdcve-1.1-modified.json.zip\n",
      "Download path:  nist/cve/\n",
      "nvdcve-1.1-modified.json.zip unzipped successfully\n",
      "---------\n",
      "Zip file:  /feeds/json/cve/1.1/nvdcve-1.1-recent.json.zip\n",
      "Download path:  nist/cve/\n",
      "nvdcve-1.1-recent.json.zip unzipped successfully\n",
      "---------\n",
      "Zip file:  /feeds/json/cve/1.1/nvdcve-1.1-2024.json.zip\n",
      "Download path:  nist/cve/\n",
      "nvdcve-1.1-2024.json.zip unzipped successfully\n",
      "---------\n",
      "Zip file:  /feeds/json/cve/1.1/nvdcve-1.1-2023.json.zip\n",
      "Download path:  nist/cve/\n",
      "nvdcve-1.1-2023.json.zip unzipped successfully\n",
      "---------\n",
      "Zip file:  /feeds/json/cve/1.1/nvdcve-1.1-2022.json.zip\n",
      "Download path:  nist/cve/\n",
      "nvdcve-1.1-2022.json.zip unzipped successfully\n",
      "---------\n",
      "Zip file:  /feeds/json/cve/1.1/nvdcve-1.1-2021.json.zip\n",
      "Download path:  nist/cve/\n",
      "nvdcve-1.1-2021.json.zip unzipped successfully\n",
      "---------\n",
      "Zip file:  /feeds/json/cve/1.1/nvdcve-1.1-2020.json.zip\n",
      "Download path:  nist/cve/\n",
      "nvdcve-1.1-2020.json.zip unzipped successfully\n",
      "---------\n",
      "Zip file:  /feeds/json/cve/1.1/nvdcve-1.1-2019.json.zip\n",
      "Download path:  nist/cve/\n",
      "nvdcve-1.1-2019.json.zip unzipped successfully\n",
      "---------\n",
      "Zip file:  /feeds/json/cve/1.1/nvdcve-1.1-2018.json.zip\n",
      "Download path:  nist/cve/\n",
      "nvdcve-1.1-2018.json.zip unzipped successfully\n",
      "---------\n",
      "Zip file:  /feeds/json/cve/1.1/nvdcve-1.1-2017.json.zip\n",
      "Download path:  nist/cve/\n",
      "nvdcve-1.1-2017.json.zip unzipped successfully\n",
      "---------\n",
      "Zip file:  /feeds/json/cve/1.1/nvdcve-1.1-2016.json.zip\n",
      "Download path:  nist/cve/\n",
      "nvdcve-1.1-2016.json.zip unzipped successfully\n",
      "---------\n",
      "Zip file:  /feeds/json/cve/1.1/nvdcve-1.1-2015.json.zip\n",
      "Download path:  nist/cve/\n",
      "nvdcve-1.1-2015.json.zip unzipped successfully\n",
      "---------\n",
      "Zip file:  /feeds/json/cve/1.1/nvdcve-1.1-2014.json.zip\n",
      "Download path:  nist/cve/\n",
      "nvdcve-1.1-2014.json.zip unzipped successfully\n",
      "---------\n",
      "Zip file:  /feeds/json/cve/1.1/nvdcve-1.1-2013.json.zip\n",
      "Download path:  nist/cve/\n",
      "nvdcve-1.1-2013.json.zip unzipped successfully\n",
      "---------\n",
      "Zip file:  /feeds/json/cve/1.1/nvdcve-1.1-2012.json.zip\n",
      "Download path:  nist/cve/\n",
      "nvdcve-1.1-2012.json.zip unzipped successfully\n",
      "---------\n",
      "Zip file:  /feeds/json/cve/1.1/nvdcve-1.1-2011.json.zip\n",
      "Download path:  nist/cve/\n",
      "nvdcve-1.1-2011.json.zip unzipped successfully\n",
      "---------\n",
      "Zip file:  /feeds/json/cve/1.1/nvdcve-1.1-2010.json.zip\n",
      "Download path:  nist/cve/\n",
      "nvdcve-1.1-2010.json.zip unzipped successfully\n",
      "---------\n",
      "Zip file:  /feeds/json/cve/1.1/nvdcve-1.1-2009.json.zip\n",
      "Download path:  nist/cve/\n",
      "nvdcve-1.1-2009.json.zip unzipped successfully\n",
      "---------\n",
      "Zip file:  /feeds/json/cve/1.1/nvdcve-1.1-2008.json.zip\n",
      "Download path:  nist/cve/\n",
      "nvdcve-1.1-2008.json.zip unzipped successfully\n",
      "---------\n",
      "Zip file:  /feeds/json/cve/1.1/nvdcve-1.1-2007.json.zip\n",
      "Download path:  nist/cve/\n",
      "nvdcve-1.1-2007.json.zip unzipped successfully\n",
      "---------\n",
      "Zip file:  /feeds/json/cve/1.1/nvdcve-1.1-2006.json.zip\n",
      "Download path:  nist/cve/\n",
      "nvdcve-1.1-2006.json.zip unzipped successfully\n",
      "---------\n",
      "Zip file:  /feeds/json/cve/1.1/nvdcve-1.1-2005.json.zip\n",
      "Download path:  nist/cve/\n",
      "nvdcve-1.1-2005.json.zip unzipped successfully\n",
      "---------\n",
      "Zip file:  /feeds/json/cve/1.1/nvdcve-1.1-2004.json.zip\n",
      "Download path:  nist/cve/\n",
      "nvdcve-1.1-2004.json.zip unzipped successfully\n",
      "---------\n",
      "Zip file:  /feeds/json/cve/1.1/nvdcve-1.1-2003.json.zip\n",
      "Download path:  nist/cve/\n",
      "nvdcve-1.1-2003.json.zip unzipped successfully\n",
      "---------\n",
      "Zip file:  /feeds/json/cve/1.1/nvdcve-1.1-2002.json.zip\n",
      "Download path:  nist/cve/\n",
      "nvdcve-1.1-2002.json.zip unzipped successfully\n",
      "---------\n",
      "\n",
      "CVE Files: download completed within 249.05202221870422\n",
      "----------\n"
     ]
    },
    {
     "data": {
      "text/plain": [
       "'DONE - Wednesday 20 November à 10h48 et 12 secondes'"
      ]
     },
     "execution_count": 14,
     "metadata": {},
     "output_type": "execute_result"
    }
   ],
   "source": [
    "# Définir le chemin de téléchargement\n",
    "data_path = \"\"\n",
    "\n",
    "# Télécharger les fichiers CVE\n",
    "download_files_cve(data_path)\n",
    "\n",
    "# Chemin du répertoire /nist/cve vers neo4j\n",
    "source_dir = '/home/jovyan/work/nist/cve'\n",
    "# Chemin du répertoire de destination\n",
    "destination_dir = '/home/jovyan/import/nist/cve'\n",
    "# Supprimer le répertoire de destination s'il existe déjà\n",
    "if os.path.exists(destination_dir):\n",
    "    shutil.rmtree(destination_dir)\n",
    "# Copier le répertoire et ses sous-répertoires\n",
    "shutil.copytree(source_dir, destination_dir)\n",
    "!sudo chmod -R 755 /home/jovyan/import/nist/cve\n",
    "\n",
    "printDone()"
   ]
  },
  {
   "cell_type": "code",
   "execution_count": 15,
   "id": "c5649689-0200-41fc-bb7a-62255754d25d",
   "metadata": {},
   "outputs": [
    {
     "name": "stdout",
     "output_type": "stream",
     "text": [
      "Nombre de fichiers CVE *.json : 145\n"
     ]
    },
    {
     "data": {
      "text/plain": [
       "'DONE - Wednesday 20 November à 10h48 et 24 secondes'"
      ]
     },
     "execution_count": 15,
     "metadata": {},
     "output_type": "execute_result"
    }
   ],
   "source": [
    "# Chemin vers le répertoire \"splitted\"\n",
    "splitted_path = os.path.join(data_path, \"nist/cve/splitted\")\n",
    "# Lister les fichiers et sous-répertoires dans \"splitted\"\n",
    "contents = os.listdir(splitted_path)\n",
    "# Filtrer les fichiers .json et compter leur nombre\n",
    "json_files = [item for item in contents if item.endswith('.json')]\n",
    "json_count = len(json_files)\n",
    "print(f\"Nombre de fichiers CVE *.json : {json_count}\")\n",
    "\n",
    "printDone()"
   ]
  },
  {
   "cell_type": "markdown",
   "id": "f423d59d-3258-462b-8f55-834bdb73161d",
   "metadata": {},
   "source": [
    "## 3. Download CPE"
   ]
  },
  {
   "cell_type": "markdown",
   "id": "6f489e88-8417-4ffe-a695-e0b4dde0adf6",
   "metadata": {},
   "source": [
    "**CPE (Common Platform Enumeration)**:\n",
    "\n",
    "**Definition**: \n",
    "\n",
    "CPE is a standardized method for naming hardware, operating systems, and applications. It provides a structured naming scheme that uniquely identifies IT products.\n",
    "\n",
    "**Purpose and Usage**:\n",
    "\n",
    "- **Asset Identification**: CPE allows organizations to catalog and track their hardware and software assets consistently.\n",
    "\n",
    "- **Vulnerability Mapping**: When combined with CVE, CPE enables automated systems to match known vulnerabilities with the specific products in use within an organization.\n",
    "\n",
    "- **Interoperability**: By using common names, different security tools can exchange information about products and vulnerabilities more effectively.\n",
    "\n",
    "**Example**: A specific version of an operating system might have a CPE name like cpe:2.3:o:microsoft:windows_10:1909:*:*:*:*:*:*:*, which uniquely identifies that OS version."
   ]
  },
  {
   "cell_type": "code",
   "execution_count": 16,
   "id": "c2b579b5",
   "metadata": {},
   "outputs": [
    {
     "name": "stdout",
     "output_type": "stream",
     "text": [
      "\n",
      "Updating the Database with the latest CPE Files...\n",
      "Download path:  nist/cpe/\n",
      "nvdcpematch-1.0.json.zip unzipped successfully\n",
      "---------\n",
      "\n",
      "CPE Files: download completed within 211.36461114883423\n",
      "----------\n"
     ]
    },
    {
     "data": {
      "text/plain": [
       "'DONE - Wednesday 20 November à 10h53 et 40 secondes'"
      ]
     },
     "execution_count": 16,
     "metadata": {},
     "output_type": "execute_result"
    }
   ],
   "source": [
    "# Télécharger les fichiers CPE\n",
    "download_files_cpe(data_path)\n",
    "\n",
    "# Chemin du répertoire /nist/cve vers neo4j\n",
    "source_dir = '/home/jovyan/work/nist/cpe'\n",
    "# Chemin du répertoire de destination\n",
    "destination_dir = '/home/jovyan/import/nist/cpe'\n",
    "# Supprimer le répertoire de destination s'il existe déjà\n",
    "if os.path.exists(destination_dir):\n",
    "    shutil.rmtree(destination_dir)\n",
    "# Copier le répertoire et ses sous-répertoires\n",
    "shutil.copytree(source_dir, destination_dir)\n",
    "!sudo chmod -R 755 /home/jovyan/import/nist/cpe\n",
    "\n",
    "printDone()"
   ]
  },
  {
   "cell_type": "code",
   "execution_count": 17,
   "id": "1e4c765c-5343-483f-a984-16449f24520d",
   "metadata": {},
   "outputs": [
    {
     "name": "stdout",
     "output_type": "stream",
     "text": [
      "Nombre de fichiers CPE *.json : 2577\n"
     ]
    },
    {
     "data": {
      "text/plain": [
       "'DONE - Wednesday 20 November à 10h53 et 44 secondes'"
      ]
     },
     "execution_count": 17,
     "metadata": {},
     "output_type": "execute_result"
    }
   ],
   "source": [
    "# Chemin vers le répertoire \"splitted\"\n",
    "splitted_path = os.path.join(data_path, \"nist/cpe/splitted\")\n",
    "# Lister les fichiers et sous-répertoires dans \"splitted\"\n",
    "contents = os.listdir(splitted_path)\n",
    "# Filtrer les fichiers .json et compter leur nombre\n",
    "json_files = [item for item in contents if item.endswith('.json')]\n",
    "json_count = len(json_files)\n",
    "print(f\"Nombre de fichiers CPE *.json : {json_count}\")\n",
    "\n",
    "printDone()"
   ]
  },
  {
   "cell_type": "markdown",
   "id": "23fd9655-2b24-41ad-bb8e-358232a4ff74",
   "metadata": {},
   "source": [
    "## 4. Download CWE"
   ]
  },
  {
   "cell_type": "markdown",
   "id": "0f6a1a97-afa8-4ec3-a329-6667b5687d86",
   "metadata": {},
   "source": [
    "**CWE (Common Weakness Enumeration)**:\n",
    "\n",
    "**Definition**: \n",
    "\n",
    "CWE is a catalog of common software and hardware weakness types that can lead to vulnerabilities. Each weakness is assigned a CWE ID and includes details about its nature, consequences, and ways to prevent it.\n",
    "\n",
    "**Purpose and Usage**:\n",
    "\n",
    "- **Development Guidance**: Developers use CWE to understand common programming errors that can introduce security flaws, helping them write more secure code.\n",
    "\n",
    "- **Security Testing**: Security professionals use CWE to focus testing efforts on known weakness types prevalent in certain software or systems.\n",
    "\n",
    "- **Education and Training**: CWE serves as an educational resource to raise awareness about common weaknesses and how to avoid them.\n",
    "\n",
    "**Example**: CWE-89 refers to SQL Injection, a common weakness where an application fails to properly sanitize user input in SQL queries."
   ]
  },
  {
   "cell_type": "code",
   "execution_count": 19,
   "id": "4e85b802",
   "metadata": {},
   "outputs": [
    {
     "name": "stdout",
     "output_type": "stream",
     "text": [
      "\n",
      "Updating the Database with the latest CWE Files...\n",
      "Download path:  mitre_cwe/\n",
      "cwec_v4.16.xml.zip unzipped successfully\n",
      "---------\n",
      "Transforming file mitre_cwe/cwec_v4.16.xml\n",
      "mitre_cwe/cwec_v4.16.xml\n",
      "mitre_cwe/cwec_v4.16.json\n",
      "\n",
      "CWE Files: download completed within 6.002500772476196\n",
      "----------\n"
     ]
    },
    {
     "data": {
      "text/plain": [
       "'DONE - Wednesday 20 November à 10h54 et 15 secondes'"
      ]
     },
     "execution_count": 19,
     "metadata": {},
     "output_type": "execute_result"
    }
   ],
   "source": [
    "# Télécharger les fichiers CWE\n",
    "download_files_cwe(data_path)\n",
    "\n",
    "# Chemin du répertoire /nist/cve vers neo4j\n",
    "source_dir = '/home/jovyan/work/mitre_cwe'\n",
    "# Chemin du répertoire de destination\n",
    "destination_dir = '/home/jovyan/import/mitre_cwe'\n",
    "# Supprimer le répertoire de destination s'il existe déjà\n",
    "if os.path.exists(destination_dir):\n",
    "    shutil.rmtree(destination_dir)\n",
    "# Copier le répertoire et ses sous-répertoires\n",
    "shutil.copytree(source_dir, destination_dir)\n",
    "!sudo chmod -R 755 /home/jovyan/import/mitre_cwe\n",
    "\n",
    "printDone()"
   ]
  },
  {
   "cell_type": "markdown",
   "id": "8b80b4b7-9052-486d-9025-5220cb230f89",
   "metadata": {},
   "source": [
    "## 5. Download CAPEC"
   ]
  },
  {
   "cell_type": "markdown",
   "id": "8cf22452-3584-450f-b5d7-7d5685f21759",
   "metadata": {},
   "source": [
    "**CAPEC (Common Attack Pattern Enumeration and Classification)**:\n",
    "\n",
    "**Definition**: \n",
    "\n",
    "CAPEC is a comprehensive catalog of known attack patterns employed by adversaries to exploit vulnerabilities. Each pattern includes details about the attack's methodology, required resources, and potential mitigations.\n",
    "\n",
    "**Purpose and Usage**:\n",
    "\n",
    "- **Threat Modeling**: Organizations use CAPEC to anticipate how attackers might target their systems, allowing them to design defenses accordingly.\n",
    "\n",
    "- **Security Assessments**: Penetration testers and security analysts refer to CAPEC to replicate attack patterns during security evaluations.\n",
    "\n",
    "- **Awareness and Training**: CAPEC helps educate security professionals about attacker techniques, enhancing their ability to detect and respond to threats.\n",
    "\n",
    "**Example**: CAPEC-112 describes a \"Brute Force\" attack pattern, outlining how attackers systematically guess credentials to gain unauthorized access."
   ]
  },
  {
   "cell_type": "code",
   "execution_count": 20,
   "id": "648c141d",
   "metadata": {},
   "outputs": [
    {
     "name": "stdout",
     "output_type": "stream",
     "text": [
      "\n",
      "Updating the Database with the latest CAPEC Files...\n",
      "Download path:  mitre_capec/\n",
      "Transforming file mitre_capec/capec_v3.9.xml\n",
      "mitre_capec/capec_v3.9.xml\n",
      "mitre_capec/capec_v3.9.json\n",
      "\n",
      "CAPEC Files: download completed within 4.351384162902832\n",
      "----------\n"
     ]
    },
    {
     "data": {
      "text/plain": [
       "'DONE - Wednesday 20 November à 10h54 et 25 secondes'"
      ]
     },
     "execution_count": 20,
     "metadata": {},
     "output_type": "execute_result"
    }
   ],
   "source": [
    "# Télécharger les fichiers CAPEC\n",
    "download_files_capec(data_path)\n",
    "\n",
    "# Chemin du répertoire /nist/cve vers neo4j\n",
    "source_dir = '/home/jovyan/work/mitre_capec'\n",
    "# Chemin du répertoire de destination\n",
    "destination_dir = '/home/jovyan/import/mitre_capec'\n",
    "# Supprimer le répertoire de destination s'il existe déjà\n",
    "if os.path.exists(destination_dir):\n",
    "    shutil.rmtree(destination_dir)\n",
    "# Copier le répertoire et ses sous-répertoires\n",
    "shutil.copytree(source_dir, destination_dir)\n",
    "!sudo chmod -R 755 /home/jovyan/import/mitre_capec\n",
    "\n",
    "printDone()"
   ]
  },
  {
   "cell_type": "code",
   "execution_count": null,
   "id": "7c45f49c-3ebc-46ac-8d3b-68e24a32271f",
   "metadata": {},
   "outputs": [],
   "source": []
  }
 ],
 "metadata": {
  "kernelspec": {
   "display_name": "Python 3 (ipykernel)",
   "language": "python",
   "name": "python3"
  },
  "language_info": {
   "codemirror_mode": {
    "name": "ipython",
    "version": 3
   },
   "file_extension": ".py",
   "mimetype": "text/x-python",
   "name": "python",
   "nbconvert_exporter": "python",
   "pygments_lexer": "ipython3",
   "version": "3.12.7"
  }
 },
 "nbformat": 4,
 "nbformat_minor": 5
}
