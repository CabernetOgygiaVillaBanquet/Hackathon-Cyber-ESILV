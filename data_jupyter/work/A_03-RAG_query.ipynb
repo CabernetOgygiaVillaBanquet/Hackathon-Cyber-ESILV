{
 "cells": [
  {
   "cell_type": "markdown",
   "id": "d17ed9b2-c837-445b-8ba6-d0aa6011d5e7",
   "metadata": {},
   "source": [
    "# UseCase A : download, ingest & query in a manually crafted data schema all NVD's CVE in a graph 3/3"
   ]
  },
  {
   "cell_type": "markdown",
   "id": "49d77f35-0492-4a84-b553-d8de87e7372e",
   "metadata": {},
   "source": [
    "## Query in a Neo4j knowledge graph"
   ]
  },
  {
   "cell_type": "markdown",
   "id": "ec7b13cc-c0fe-481a-aec1-3556121243f5",
   "metadata": {},
   "source": [
    "## 1. Set context"
   ]
  },
  {
   "cell_type": "code",
   "execution_count": 13,
   "id": "cd5d6f12-2cfb-442b-a72f-b95317447422",
   "metadata": {},
   "outputs": [
    {
     "data": {
      "text/plain": [
       "'DONE - Wednesday 20 November à 14h09 et 29 secondes'"
      ]
     },
     "execution_count": 13,
     "metadata": {},
     "output_type": "execute_result"
    }
   ],
   "source": [
    "import os\n",
    "from dotenv import load_dotenv\n",
    "from datetime import datetime\n",
    "import json\n",
    "\n",
    "def printDone():\n",
    "    # Obtenir la date et l'heure actuelle\n",
    "    maintenant = datetime.now()\n",
    "    # Formater la date dans le format souhaité\n",
    "    date_formatee = maintenant.strftime(\"DONE - %A %d %B à %Hh%M et %S secondes\")\n",
    "    # Retourner la date formatée\n",
    "    return date_formatee\n",
    "\n",
    "load_dotenv()\n",
    "\n",
    "os.environ[\"OLLAMA_URL\"] = \"http://ollama:11434\"\n",
    "os.environ[\"embedding_model\"] = \"nomic-embed-text\"\n",
    "\n",
    "os.environ[\"NEO4J_URI\"] = \"neo4j://neo4j:7687\"\n",
    "os.environ[\"NEO4J_URI_BOLT\"] = \"bolt://neo4j:7687\"\n",
    "os.environ[\"NEO4J_USERNAME\"] = \"neo4j\"\n",
    "os.environ[\"NEO4J_PASSWORD\"] = \"strongPassword1\"\n",
    "os.environ[\"NEO4J_DB\"] = \"neo4j\"\n",
    "\n",
    "os.environ[\"OLLAMA_MODELE_URL\"] = \"http://ollama:11434/v1/\"\n",
    "os.environ[\"LLM_MODEL\"] = \"llama3.2:3b\"\n",
    "\n",
    "printDone()"
   ]
  },
  {
   "cell_type": "markdown",
   "id": "c3e3d81f-4411-4bcd-839c-3acba5c504c1",
   "metadata": {},
   "source": [
    "#### Get vector DB access"
   ]
  },
  {
   "cell_type": "code",
   "execution_count": 2,
   "id": "03188de7-5eee-440f-a85c-1c4b3c68e774",
   "metadata": {},
   "outputs": [
    {
     "data": {
      "text/plain": [
       "'DONE - Wednesday 20 November à 14h05 et 03 secondes'"
      ]
     },
     "execution_count": 2,
     "metadata": {},
     "output_type": "execute_result"
    }
   ],
   "source": [
    "from langchain.memory import ConversationBufferMemory\n",
    "from langchain.chains.graph_qa.cypher import GraphCypherQAChain\n",
    "from langchain_ollama import OllamaLLM\n",
    "from langchain_core.prompts import PromptTemplate\n",
    "from langchain_community.graphs import Neo4jGraph\n",
    "\n",
    "URI =os.environ[\"NEO4J_URI\"]\n",
    "USER = os.environ[\"NEO4J_USERNAME\"]\n",
    "PWD = os.environ[\"NEO4J_PASSWORD\"]\n",
    "DB = os.environ[\"NEO4J_DB\"]\n",
    "\n",
    "# Connect to Neo4j database\n",
    "kg = Neo4jGraph(url=URI, username=USER, password=PWD, database=DB)\n",
    "kg.refresh_schema()\n",
    "\n",
    "printDone()"
   ]
  },
  {
   "cell_type": "markdown",
   "id": "10503e00-ebd6-4946-a94d-0dcd759e1da0",
   "metadata": {},
   "source": [
    "### Get retriever"
   ]
  },
  {
   "cell_type": "code",
   "execution_count": 3,
   "id": "996d2f92-8367-4624-9569-7fa9a259b806",
   "metadata": {},
   "outputs": [
    {
     "data": {
      "text/plain": [
       "'DONE - Wednesday 20 November à 14h05 et 03 secondes'"
      ]
     },
     "execution_count": 3,
     "metadata": {},
     "output_type": "execute_result"
    }
   ],
   "source": [
    "CYPHER_GENERATION_TEMPLATE = \"\"\"Task:Generate Cypher statement to query a graph database.\n",
    "    Instructions:\n",
    "    Use only the provided relationship types and properties in the schema.\n",
    "    Do not use any other relationship types or properties that are not provided.\n",
    "    Do not invent answers.\n",
    " \n",
    "    Schema:\n",
    "    {schema}\n",
    "    Note: Do not include any explanations or apologies in your responses.\n",
    "    Do not respond to any questions that might ask anything else than for you to construct a Cypher statement.\n",
    "    Examples: Here are a few examples of generated Cypher statements for particular questions:\n",
    "    # How many vulnerabilities have phishing as a common weakness ?\n",
    "    MATCH (cve:CVE)-[]-(cwe:CWE) WHERE cwe.Description CONTAINS 'phishing' OR cwe.Description CONTAINS 'Phishing' RETURN COUNT(cve) AS TotalVulnerabilities\n",
    "    # How many CVE are related to privileges ?\n",
    "    MATCH (cve:CVE) WHERE ANY(x IN cve.Description WHERE x CONTAINS 'privileges' OR x CONTAINS 'Privileges') RETURN COUNT(cve) AS TotalCVE\n",
    "    # What is the CVE-2022-43958 about?\n",
    "    MATCH (cve:CVE) WHERE cve.Name = \"CVE-2022-43958\" RETURN cve.Name AS Name, cve.Description[0] AS Description\n",
    "    # What is the latest CVE related to phishing ?\n",
    "    MATCH (cve:CVE) WHERE ANY(x IN cve.Description WHERE x CONTAINS 'phishing' OR x CONTAINS 'Phishing') RETURN cve.Published_Date AS Latest_CVE_Published_Date, cve.Name AS CVE_Name, cve.Description[0] as Description ORDER BY cve.Published_Date DESC LIMIT 1\n",
    "   \n",
    "    The question is:\n",
    "    {question}\"\"\"\n",
    "\n",
    "printDone()"
   ]
  },
  {
   "cell_type": "code",
   "execution_count": 4,
   "id": "0cc44254-08fc-4170-bfdc-ae7d1fa936aa",
   "metadata": {},
   "outputs": [
    {
     "data": {
      "text/plain": [
       "'DONE - Wednesday 20 November à 14h05 et 03 secondes'"
      ]
     },
     "execution_count": 4,
     "metadata": {},
     "output_type": "execute_result"
    }
   ],
   "source": [
    "CYPHER_GENERATION_PROMPT = PromptTemplate(input_variables=[\"schema\", \"question\"], template=CYPHER_GENERATION_TEMPLATE)\n",
    "\n",
    "printDone()"
   ]
  },
  {
   "cell_type": "markdown",
   "id": "e664f930-8dcd-4014-8e57-a9caa719557d",
   "metadata": {},
   "source": [
    "### Set LLM access"
   ]
  },
  {
   "cell_type": "code",
   "execution_count": 5,
   "id": "30663062-bab2-4458-9cba-4b947a32e12f",
   "metadata": {},
   "outputs": [
    {
     "data": {
      "text/plain": [
       "'DONE - Wednesday 20 November à 14h05 et 03 secondes'"
      ]
     },
     "execution_count": 5,
     "metadata": {},
     "output_type": "execute_result"
    }
   ],
   "source": [
    "llm=OllamaLLM(base_url= os.environ[\"OLLAMA_URL\"],model=os.environ[\"LLM_MODEL\"])\n",
    "printDone()"
   ]
  },
  {
   "cell_type": "code",
   "execution_count": 6,
   "id": "a655e65a-d2ca-4fc8-b8d1-83a00f3b3305",
   "metadata": {},
   "outputs": [
    {
     "name": "stderr",
     "output_type": "stream",
     "text": [
      "/tmp/ipykernel_4772/2225802679.py:2: LangChainDeprecationWarning: Please see the migration guide at: https://python.langchain.com/docs/versions/migrating_memory/\n",
      "  memory = ConversationBufferMemory(memory_key=\"history\", input_key=\"question\")\n"
     ]
    },
    {
     "data": {
      "text/plain": [
       "'DONE - Wednesday 20 November à 14h05 et 03 secondes'"
      ]
     },
     "execution_count": 6,
     "metadata": {},
     "output_type": "execute_result"
    }
   ],
   "source": [
    "# Utilisation mise à jour de ConversationBufferMemory\n",
    "memory = ConversationBufferMemory(memory_key=\"history\", input_key=\"question\")\n",
    "printDone()"
   ]
  },
  {
   "cell_type": "markdown",
   "id": "bb79bb41-5272-43a9-b715-b29310628bbe",
   "metadata": {},
   "source": [
    "### Initialize the RAG pipeline"
   ]
  },
  {
   "cell_type": "code",
   "execution_count": 7,
   "id": "73114966-dec6-45bc-b7b3-f289e6c97fd8",
   "metadata": {},
   "outputs": [
    {
     "data": {
      "text/plain": [
       "'DONE - Wednesday 20 November à 14h05 et 03 secondes'"
      ]
     },
     "execution_count": 7,
     "metadata": {},
     "output_type": "execute_result"
    }
   ],
   "source": [
    "kg_qa= GraphCypherQAChain.from_llm(llm=llm, graph = kg, verbose=True, cypher_prompt= CYPHER_GENERATION_PROMPT, memory=memory, allow_dangerous_requests=\"true\")\n",
    "kg_qa.input_key = \"question\"\n",
    "\n",
    "printDone()"
   ]
  },
  {
   "cell_type": "markdown",
   "id": "4fa65f38-2b2e-4d7f-8fe4-c360a7c245e4",
   "metadata": {},
   "source": [
    "### Query the graph"
   ]
  },
  {
   "cell_type": "code",
   "execution_count": 21,
   "id": "fda04f30-5bd2-4f29-a6f0-d0b36d1a4adb",
   "metadata": {},
   "outputs": [
    {
     "name": "stdout",
     "output_type": "stream",
     "text": [
      "\n",
      "\n",
      "\u001b[1m> Entering new GraphCypherQAChain chain...\u001b[0m\n",
      "Generated Cypher:\n",
      "\u001b[32;1m\u001b[1;3mMATCH (cve:CVE) WHERE cve.Name = \"CVE-2017-0144\" RETURN cve.Name AS Name, cve.Description[0] AS Description\u001b[0m\n",
      "Full Context:\n",
      "\u001b[32;1m\u001b[1;3m[]\u001b[0m\n",
      "\n",
      "\u001b[1m> Finished chain.\u001b[0m\n",
      "CVE-2017-0144 was a security vulnerability in OpenSSL, a widely used cryptographic library. The vulnerability allowed attackers to obtain sensitive information such as private keys and certificates stored on the system. It was discovered in January 2017 and was patched by updating OpenSSL to version 1.0.2h or later.\n"
     ]
    },
    {
     "data": {
      "text/plain": [
       "'DONE - Wednesday 20 November à 14h14 et 36 secondes'"
      ]
     },
     "execution_count": 21,
     "metadata": {},
     "output_type": "execute_result"
    }
   ],
   "source": [
    "query_text = \"Tell me about CVE-2017-0144\"\n",
    "response=kg_qa.invoke(query_text)\n",
    "print(response['result'])\n",
    "\n",
    "printDone()"
   ]
  },
  {
   "cell_type": "code",
   "execution_count": null,
   "id": "dc55f37b-5eb1-4bf4-9c11-54357f40fc61",
   "metadata": {},
   "outputs": [],
   "source": []
  }
 ],
 "metadata": {
  "kernelspec": {
   "display_name": "Python 3 (ipykernel)",
   "language": "python",
   "name": "python3"
  },
  "language_info": {
   "codemirror_mode": {
    "name": "ipython",
    "version": 3
   },
   "file_extension": ".py",
   "mimetype": "text/x-python",
   "name": "python",
   "nbconvert_exporter": "python",
   "pygments_lexer": "ipython3",
   "version": "3.12.7"
  }
 },
 "nbformat": 4,
 "nbformat_minor": 5
}
