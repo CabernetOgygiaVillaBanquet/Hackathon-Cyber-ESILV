{
 "cells": [
  {
   "cell_type": "markdown",
   "metadata": {
    "vscode": {
     "languageId": "plaintext"
    }
   },
   "source": [
    "# UseCase B : ingest pdf in a vectorDB & query 2/2"
   ]
  },
  {
   "cell_type": "markdown",
   "metadata": {},
   "source": [
    "## Query"
   ]
  },
  {
   "cell_type": "markdown",
   "metadata": {},
   "source": [
    "### Context definition\n",
    "\n",
    "Neo4j is used as Vector DB\n",
    "https://neo4j.com/docs/neo4j-graphrag-python/current/user_guide_rag.html"
   ]
  },
  {
   "cell_type": "code",
   "execution_count": 10,
   "metadata": {
    "vscode": {
     "languageId": "plaintext"
    }
   },
   "outputs": [
    {
     "data": {
      "text/plain": [
       "'DONE - Wednesday 20 November à 16h56 et 25 secondes'"
      ]
     },
     "execution_count": 10,
     "metadata": {},
     "output_type": "execute_result"
    }
   ],
   "source": [
    "import os\n",
    "import re\n",
    "from langchain.vectorstores.neo4j_vector import Neo4jVector\n",
    "from langchain.text_splitter import CharacterTextSplitter, RecursiveCharacterTextSplitter\n",
    "from transformers import AutoModelForSeq2SeqLM, AutoTokenizer\n",
    "from dotenv import load_dotenv\n",
    "from datetime import datetime\n",
    "\n",
    "def printDone():\n",
    "    # Obtenir la date et l'heure actuelle\n",
    "    maintenant = datetime.now()\n",
    "    # Formater la date dans le format souhaité\n",
    "    date_formatee = maintenant.strftime(\"DONE - %A %d %B à %Hh%M et %S secondes\")\n",
    "    # Retourner la date formatée\n",
    "    return date_formatee\n",
    "\n",
    "load_dotenv()\n",
    "\n",
    "os.environ[\"OLLAMA_URL\"] = \"http://ollama:11434\"\n",
    "os.environ[\"embedding_model\"] = \"nomic-embed-text\"\n",
    "\n",
    "os.environ[\"NEO4J_URI\"] = \"neo4j://neo4j:7687\"\n",
    "os.environ[\"NEO4J_URI_BOLT\"] = \"bolt://neo4j:7687\"\n",
    "os.environ[\"NEO4J_USERNAME\"] = \"neo4j\"\n",
    "os.environ[\"NEO4J_PASSWORD\"] = \"strongPassword1\"\n",
    "os.environ[\"INDEX_NAME\"] = \"pdf_chunk\"\n",
    "os.environ[\"FULLTEXT_INDEX_NAME\"] = \"documentFullTextIndex\"\n",
    "\n",
    "os.environ[\"OLLAMA_MODELE_URL\"] = \"http://ollama:11434/v1/\"\n",
    "os.environ[\"LLM_MODEL\"] = \"llama3.2:3b\"\n",
    "\n",
    "printDone()"
   ]
  },
  {
   "cell_type": "markdown",
   "metadata": {},
   "source": [
    "#### Get vector DB access"
   ]
  },
  {
   "cell_type": "code",
   "execution_count": 11,
   "metadata": {},
   "outputs": [
    {
     "data": {
      "text/plain": [
       "'DONE - Wednesday 20 November à 16h56 et 26 secondes'"
      ]
     },
     "execution_count": 11,
     "metadata": {},
     "output_type": "execute_result"
    }
   ],
   "source": [
    "from neo4j import GraphDatabase\n",
    "from neo4j_graphrag.retrievers import HybridRetriever\n",
    "from langchain_openai import ChatOpenAI\n",
    "from neo4j_graphrag.generation import GraphRAG\n",
    "from neo4j_graphrag.embeddings import OpenAIEmbeddings\n",
    "\n",
    "from langchain_ollama import OllamaEmbeddings\n",
    "\n",
    "URI =os.environ[\"NEO4J_URI\"]\n",
    "AUTH = (os.environ[\"NEO4J_USERNAME\"], os.environ[\"NEO4J_PASSWORD\"])\n",
    "\n",
    "# Connect to Neo4j database\n",
    "driver = GraphDatabase.driver(URI, auth=AUTH)\n",
    "\n",
    "printDone()"
   ]
  },
  {
   "cell_type": "markdown",
   "metadata": {},
   "source": [
    "### Get Embedder object"
   ]
  },
  {
   "cell_type": "code",
   "execution_count": 12,
   "metadata": {},
   "outputs": [
    {
     "data": {
      "text/plain": [
       "'DONE - Wednesday 20 November à 16h56 et 28 secondes'"
      ]
     },
     "execution_count": 12,
     "metadata": {},
     "output_type": "execute_result"
    }
   ],
   "source": [
    "embeddings_engin = OllamaEmbeddings(base_url=os.environ[\"OLLAMA_URL\"], model=os.environ[\"embedding_model\"])\n",
    "\n",
    "printDone()"
   ]
  },
  {
   "cell_type": "markdown",
   "metadata": {},
   "source": [
    "### Get retriever"
   ]
  },
  {
   "cell_type": "code",
   "execution_count": 13,
   "metadata": {},
   "outputs": [
    {
     "data": {
      "text/plain": [
       "'DONE - Wednesday 20 November à 16h56 et 29 secondes'"
      ]
     },
     "execution_count": 13,
     "metadata": {},
     "output_type": "execute_result"
    }
   ],
   "source": [
    "FULLTEXT_INDEX_NAME = os.environ[\"FULLTEXT_INDEX_NAME\"]\n",
    "VECTOR_INDEX_NAME = os.environ[\"INDEX_NAME\"]\n",
    "retriever = HybridRetriever(driver, VECTOR_INDEX_NAME, FULLTEXT_INDEX_NAME, embeddings_engin)\n",
    "\n",
    "printDone()"
   ]
  },
  {
   "cell_type": "markdown",
   "metadata": {},
   "source": [
    "### Set LLM access"
   ]
  },
  {
   "cell_type": "code",
   "execution_count": 16,
   "metadata": {},
   "outputs": [
    {
     "data": {
      "text/plain": [
       "'DONE - Wednesday 20 November à 16h58 et 33 secondes'"
      ]
     },
     "execution_count": 16,
     "metadata": {},
     "output_type": "execute_result"
    }
   ],
   "source": [
    "llm = ChatOpenAI(api_key=\"ollama\", base_url=os.environ[\"OLLAMA_MODELE_URL\"], model_name=os.environ[\"LLM_MODEL\"], temperature=0.1, verbose=True)\n",
    "\n",
    "printDone()"
   ]
  },
  {
   "cell_type": "markdown",
   "metadata": {},
   "source": [
    "### Initialize the RAG pipeline"
   ]
  },
  {
   "cell_type": "code",
   "execution_count": 17,
   "metadata": {},
   "outputs": [
    {
     "data": {
      "text/plain": [
       "'DONE - Wednesday 20 November à 16h58 et 37 secondes'"
      ]
     },
     "execution_count": 17,
     "metadata": {},
     "output_type": "execute_result"
    }
   ],
   "source": [
    "rag = GraphRAG(retriever=retriever, llm=llm)\n",
    "\n",
    "printDone()"
   ]
  },
  {
   "cell_type": "markdown",
   "metadata": {},
   "source": [
    "### Query the graph\n",
    "\n",
    "Set query"
   ]
  },
  {
   "cell_type": "code",
   "execution_count": 18,
   "metadata": {},
   "outputs": [
    {
     "name": "stdout",
     "output_type": "stream",
     "text": [
      "answer=\"CVSS (Common Vulnerability Scoring System) is a widely-used standard for measuring the severity and impact of vulnerabilities in software systems. It provides a standardized way to assess the risk associated with a vulnerability, allowing organizations to prioritize remediation efforts.\\n\\nThe CVSS v3.1 User Guide provides detailed information on how to use CVSS, including scoring metrics, temporal and environmental metrics, and guidelines for proper attribution and usage.\\n\\nCVSS is designed to measure the severity of a vulnerability, not the risk itself. It's essential to use CVSS in conjunction with other risk assessment methods to get a comprehensive understanding of the potential impact of a vulnerability.\\n\\nThe CVSS v3.1 Specification Document outlines the official specification for CVSS version 3.1 and provides guidance on how to score vulnerabilities using the CVSS scoring system.\\n\\nOverall, CVSS is an essential tool for organizations looking to assess and mitigate cybersecurity risks in their software systems.\" retriever_result=None\n"
     ]
    },
    {
     "data": {
      "text/plain": [
       "'DONE - Wednesday 20 November à 17h00 et 34 secondes'"
      ]
     },
     "execution_count": 18,
     "metadata": {},
     "output_type": "execute_result"
    }
   ],
   "source": [
    "query_text = \"Tell me about CVSS ?\"\n",
    "response = rag.search(query_text=query_text, retriever_config={\"top_k\": 8})\n",
    "print(response)\n",
    "\n",
    "printDone()"
   ]
  }
 ],
 "metadata": {
  "kernelspec": {
   "display_name": "Python 3 (ipykernel)",
   "language": "python",
   "name": "python3"
  },
  "language_info": {
   "codemirror_mode": {
    "name": "ipython",
    "version": 3
   },
   "file_extension": ".py",
   "mimetype": "text/x-python",
   "name": "python",
   "nbconvert_exporter": "python",
   "pygments_lexer": "ipython3",
   "version": "3.12.7"
  }
 },
 "nbformat": 4,
 "nbformat_minor": 4
}
